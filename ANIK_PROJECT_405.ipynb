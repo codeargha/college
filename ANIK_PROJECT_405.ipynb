{
 "cells": [
  {
   "cell_type": "code",
   "execution_count": 2,
   "id": "296ce947",
   "metadata": {
    "ExecuteTime": {
     "end_time": "2024-03-12T17:08:25.385770Z",
     "start_time": "2024-03-12T17:08:24.539278Z"
    },
    "id": "296ce947",
    "tags": []
   },
   "outputs": [],
   "source": [
    "import numpy as np\n",
    "import pandas as pd\n",
    "\n",
    "df1 = pd.read_csv('zomato.csv')"
   ]
  },
  {
   "cell_type": "code",
   "execution_count": 3,
   "id": "07230387",
   "metadata": {
    "ExecuteTime": {
     "end_time": "2024-03-12T17:08:26.926513Z",
     "start_time": "2024-03-12T17:08:26.908621Z"
    },
    "colab": {
     "base_uri": "https://localhost:8080/"
    },
    "id": "07230387",
    "outputId": "5e5a102f-fc81-4d8a-ca5c-6d87d4d80525",
    "tags": []
   },
   "outputs": [
    {
     "name": "stdout",
     "output_type": "stream",
     "text": [
      "         Date        Open        High         Low       Close   Adj Close  \\\n",
      "0  2021-07-23  116.000000  138.899994  115.000000  126.000000  126.000000   \n",
      "1  2021-07-26  126.349998  143.750000  125.300003  140.649994  140.649994   \n",
      "2  2021-07-27  141.699997  147.800003  127.750000  132.899994  132.899994   \n",
      "3  2021-07-28  131.000000  135.000000  123.550003  131.199997  131.199997   \n",
      "4  2021-07-29  134.949997  144.000000  132.199997  141.550003  141.550003   \n",
      "5  2021-07-30  142.600006  142.699997  131.000000  133.500000  133.500000   \n",
      "6  2021-08-02  135.750000  140.750000  135.149994  139.699997  139.699997   \n",
      "7  2021-08-03  137.000000  140.800003  137.000000  139.399994  139.399994   \n",
      "8  2021-08-04  139.800003  141.000000  135.250000  138.399994  138.399994   \n",
      "9  2021-08-05  138.750000  138.899994  132.000000  134.949997  134.949997   \n",
      "\n",
      "      Volume  \n",
      "0  694895290  \n",
      "1  249723854  \n",
      "2  240341900  \n",
      "3  159793731  \n",
      "4  117973089  \n",
      "5   88312522  \n",
      "6   66909732  \n",
      "7   46610001  \n",
      "8   41134419  \n",
      "9   38437134  \n"
     ]
    }
   ],
   "source": [
    "print(df1.head(10))"
   ]
  },
  {
   "cell_type": "code",
   "execution_count": 4,
   "id": "55d48124",
   "metadata": {
    "ExecuteTime": {
     "end_time": "2024-03-12T17:08:34.604609Z",
     "start_time": "2024-03-12T17:08:34.589192Z"
    },
    "colab": {
     "base_uri": "https://localhost:8080/"
    },
    "id": "55d48124",
    "outputId": "c49cdc47-b449-406f-9754-eba5ac4a5167",
    "tags": []
   },
   "outputs": [
    {
     "name": "stdout",
     "output_type": "stream",
     "text": [
      "           Date        Open        High         Low       Close   Adj Close  \\\n",
      "621  2024-01-24  131.449997  136.899994  129.800003  136.199997  136.199997   \n",
      "622  2024-01-25  135.899994  138.199997  132.800003  136.149994  136.149994   \n",
      "623  2024-01-29  136.899994  137.699997  132.350006  135.550003  135.550003   \n",
      "624  2024-01-30  135.850006  138.800003  134.649994  137.199997  137.199997   \n",
      "625  2024-01-31  140.000000  142.000000  138.000000  139.550003  139.550003   \n",
      "626  2024-02-01  141.000000  143.500000  138.550003  140.550003  140.550003   \n",
      "627  2024-02-02  141.800003  145.000000  141.449997  143.800003  143.800003   \n",
      "628  2024-02-05  145.000000  145.399994  138.250000  140.250000  140.250000   \n",
      "629  2024-02-06  140.399994  141.800003  138.050003  139.949997  139.949997   \n",
      "630  2024-02-07  141.000000  142.899994  139.649994  140.399994  140.399994   \n",
      "\n",
      "       Volume  \n",
      "621  54612769  \n",
      "622  60682540  \n",
      "623  55871017  \n",
      "624  57612020  \n",
      "625  89833027  \n",
      "626  70252449  \n",
      "627  78666454  \n",
      "628  54189688  \n",
      "629  46782951  \n",
      "630  75083259  \n"
     ]
    }
   ],
   "source": [
    "print(df1.tail(10))"
   ]
  },
  {
   "cell_type": "code",
   "execution_count": 5,
   "id": "cc80307a",
   "metadata": {
    "ExecuteTime": {
     "end_time": "2024-03-12T17:08:36.120045Z",
     "start_time": "2024-03-12T17:08:36.111901Z"
    },
    "colab": {
     "base_uri": "https://localhost:8080/"
    },
    "id": "cc80307a",
    "outputId": "bbabd1b4-c292-40c3-cd09-976f3005ac5f",
    "tags": []
   },
   "outputs": [
    {
     "name": "stdout",
     "output_type": "stream",
     "text": [
      "Date          object\n",
      "Open         float64\n",
      "High         float64\n",
      "Low          float64\n",
      "Close        float64\n",
      "Adj Close    float64\n",
      "Volume         int64\n",
      "dtype: object\n"
     ]
    }
   ],
   "source": [
    "print(df1.dtypes)"
   ]
  },
  {
   "cell_type": "code",
   "execution_count": 6,
   "id": "142ccec7",
   "metadata": {
    "ExecuteTime": {
     "end_time": "2024-03-12T17:08:40.222467Z",
     "start_time": "2024-03-12T17:08:38.764584Z"
    },
    "id": "142ccec7",
    "tags": []
   },
   "outputs": [],
   "source": [
    "import seaborn as sns"
   ]
  },
  {
   "cell_type": "code",
   "execution_count": 7,
   "id": "7a406a7d",
   "metadata": {
    "ExecuteTime": {
     "end_time": "2024-03-12T17:08:41.405698Z",
     "start_time": "2024-03-12T17:08:41.039899Z"
    },
    "colab": {
     "base_uri": "https://localhost:8080/",
     "height": 428
    },
    "id": "7a406a7d",
    "outputId": "1c05b71f-0c39-483c-8b77-1e438d6cff34",
    "tags": []
   },
   "outputs": [
    {
     "data": {
      "text/plain": [
       "<Axes: >"
      ]
     },
     "execution_count": 7,
     "metadata": {},
     "output_type": "execute_result"
    },
    {
     "data": {
      "image/png": "[encoded data removed]",
      "text/plain": [
       "<Figure size 640x480 with 1 Axes>"
      ]
     },
     "metadata": {},
     "output_type": "display_data"
    }
   ],
   "source": [
    "l=[12,25,42,23,25,100,1007]\n",
    "l\n",
    "sns.boxplot(data=l)"
   ]
  },
  {
   "cell_type": "code",
   "execution_count": 8,
   "id": "b1bd3770",
   "metadata": {
    "ExecuteTime": {
     "end_time": "2024-03-12T17:08:42.675104Z",
     "start_time": "2024-03-12T17:08:42.449395Z"
    },
    "colab": {
     "base_uri": "https://localhost:8080/",
     "height": 466
    },
    "id": "b1bd3770",
    "outputId": "f453efef-b80b-4f8b-a26b-8545318fa972",
    "tags": []
   },
   "outputs": [
    {
     "data": {
      "text/plain": [
       "<Axes: xlabel='Volume'>"
      ]
     },
     "execution_count": 8,
     "metadata": {},
     "output_type": "execute_result"
    },
    {
     "data": {
      "image/png": "[encoded data removed]",
      "text/plain": [
       "<Figure size 640x480 with 1 Axes>"
      ]
     },
     "metadata": {},
     "output_type": "display_data"
    }
   ],
   "source": [
    "sns.boxplot(x=\"Volume\", data=df1)"
   ]
  },
  {
   "cell_type": "code",
   "execution_count": 9,
   "id": "81749fa4",
   "metadata": {
    "ExecuteTime": {
     "end_time": "2024-03-12T17:08:43.529773Z",
     "start_time": "2024-03-12T17:08:43.516387Z"
    },
    "colab": {
     "base_uri": "https://localhost:8080/"
    },
    "id": "81749fa4",
    "outputId": "ada1a86a-0951-4023-bd8e-84ea4cebae2f",
    "tags": []
   },
   "outputs": [
    {
     "name": "stdout",
     "output_type": "stream",
     "text": [
      "count    6.310000e+02\n",
      "mean     6.731737e+07\n",
      "std      7.461030e+07\n",
      "min      0.000000e+00\n",
      "25%      2.800788e+07\n",
      "50%      4.759710e+07\n",
      "75%      7.525439e+07\n",
      "max      6.948953e+08\n",
      "Name: Volume, dtype: float64\n"
     ]
    }
   ],
   "source": [
    "\n",
    "print(df1[\"Volume\"].describe())"
   ]
  },
  {
   "cell_type": "code",
   "execution_count": 9,
   "id": "JaluEN1AHcQQ",
   "metadata": {
    "ExecuteTime": {
     "end_time": "2024-03-12T17:08:44.729335Z",
     "start_time": "2024-03-12T17:08:44.723089Z"
    },
    "id": "JaluEN1AHcQQ"
   },
   "outputs": [],
   "source": []
  },
  {
   "cell_type": "markdown",
   "id": "Vny3HOqZHisv",
   "metadata": {
    "id": "Vny3HOqZHisv"
   },
   "source": [
    "# **Day 2**"
   ]
  },
  {
   "cell_type": "code",
   "execution_count": 10,
   "id": "79fff6b1",
   "metadata": {
    "ExecuteTime": {
     "end_time": "2024-03-12T17:08:46.626254Z",
     "start_time": "2024-03-12T17:08:46.617719Z"
    },
    "colab": {
     "base_uri": "https://localhost:8080/"
    },
    "id": "79fff6b1",
    "outputId": "456fc11f-1585-4831-dd53-e898b0c26240"
   },
   "outputs": [
    {
     "data": {
      "text/plain": [
       "(631, 7)"
      ]
     },
     "execution_count": 10,
     "metadata": {},
     "output_type": "execute_result"
    }
   ],
   "source": [
    "df1.shape   # to know the discontinuous of our dataset\n"
   ]
  },
  {
   "cell_type": "code",
   "execution_count": 11,
   "id": "wits1M8gIEfA",
   "metadata": {
    "ExecuteTime": {
     "end_time": "2024-03-12T17:08:47.443132Z",
     "start_time": "2024-03-12T17:08:47.437266Z"
    },
    "id": "wits1M8gIEfA"
   },
   "outputs": [],
   "source": [
    "import pandas as pd"
   ]
  },
  {
   "cell_type": "code",
   "execution_count": 12,
   "id": "HvjTS5nLHsF-",
   "metadata": {
    "ExecuteTime": {
     "end_time": "2024-03-12T17:08:48.428571Z",
     "start_time": "2024-03-12T17:08:48.409023Z"
    },
    "colab": {
     "base_uri": "https://localhost:8080/",
     "height": 423
    },
    "id": "HvjTS5nLHsF-",
    "outputId": "5a277ea9-7eae-4baa-aab9-e797a32b5f13"
   },
   "outputs": [
    {
     "data": {
      "text/html": [
       "<div>\n",
       "<style scoped>\n",
       "    .dataframe tbody tr th:only-of-type {\n",
       "        vertical-align: middle;\n",
       "    }\n",
       "\n",
       "    .dataframe tbody tr th {\n",
       "        vertical-align: top;\n",
       "    }\n",
       "\n",
       "    .dataframe thead th {\n",
       "        text-align: right;\n",
       "    }\n",
       "</style>\n",
       "<table border=\"1\" class=\"dataframe\">\n",
       "  <thead>\n",
       "    <tr style=\"text-align: right;\">\n",
       "      <th></th>\n",
       "      <th>Date</th>\n",
       "      <th>Open</th>\n",
       "      <th>High</th>\n",
       "      <th>Low</th>\n",
       "      <th>Close</th>\n",
       "      <th>Adj Close</th>\n",
       "      <th>Volume</th>\n",
       "    </tr>\n",
       "  </thead>\n",
       "  <tbody>\n",
       "    <tr>\n",
       "      <th>0</th>\n",
       "      <td>False</td>\n",
       "      <td>False</td>\n",
       "      <td>False</td>\n",
       "      <td>False</td>\n",
       "      <td>False</td>\n",
       "      <td>False</td>\n",
       "      <td>False</td>\n",
       "    </tr>\n",
       "    <tr>\n",
       "      <th>1</th>\n",
       "      <td>False</td>\n",
       "      <td>False</td>\n",
       "      <td>False</td>\n",
       "      <td>False</td>\n",
       "      <td>False</td>\n",
       "      <td>False</td>\n",
       "      <td>False</td>\n",
       "    </tr>\n",
       "    <tr>\n",
       "      <th>2</th>\n",
       "      <td>False</td>\n",
       "      <td>False</td>\n",
       "      <td>False</td>\n",
       "      <td>False</td>\n",
       "      <td>False</td>\n",
       "      <td>False</td>\n",
       "      <td>False</td>\n",
       "    </tr>\n",
       "    <tr>\n",
       "      <th>3</th>\n",
       "      <td>False</td>\n",
       "      <td>False</td>\n",
       "      <td>False</td>\n",
       "      <td>False</td>\n",
       "      <td>False</td>\n",
       "      <td>False</td>\n",
       "      <td>False</td>\n",
       "    </tr>\n",
       "    <tr>\n",
       "      <th>4</th>\n",
       "      <td>False</td>\n",
       "      <td>False</td>\n",
       "      <td>False</td>\n",
       "      <td>False</td>\n",
       "      <td>False</td>\n",
       "      <td>False</td>\n",
       "      <td>False</td>\n",
       "    </tr>\n",
       "    <tr>\n",
       "      <th>...</th>\n",
       "      <td>...</td>\n",
       "      <td>...</td>\n",
       "      <td>...</td>\n",
       "      <td>...</td>\n",
       "      <td>...</td>\n",
       "      <td>...</td>\n",
       "      <td>...</td>\n",
       "    </tr>\n",
       "    <tr>\n",
       "      <th>626</th>\n",
       "      <td>False</td>\n",
       "      <td>False</td>\n",
       "      <td>False</td>\n",
       "      <td>False</td>\n",
       "      <td>False</td>\n",
       "      <td>False</td>\n",
       "      <td>False</td>\n",
       "    </tr>\n",
       "    <tr>\n",
       "      <th>627</th>\n",
       "      <td>False</td>\n",
       "      <td>False</td>\n",
       "      <td>False</td>\n",
       "      <td>False</td>\n",
       "      <td>False</td>\n",
       "      <td>False</td>\n",
       "      <td>False</td>\n",
       "    </tr>\n",
       "    <tr>\n",
       "      <th>628</th>\n",
       "      <td>False</td>\n",
       "      <td>False</td>\n",
       "      <td>False</td>\n",
       "      <td>False</td>\n",
       "      <td>False</td>\n",
       "      <td>False</td>\n",
       "      <td>False</td>\n",
       "    </tr>\n",
       "    <tr>\n",
       "      <th>629</th>\n",
       "      <td>False</td>\n",
       "      <td>False</td>\n",
       "      <td>False</td>\n",
       "      <td>False</td>\n",
       "      <td>False</td>\n",
       "      <td>False</td>\n",
       "      <td>False</td>\n",
       "    </tr>\n",
       "    <tr>\n",
       "      <th>630</th>\n",
       "      <td>False</td>\n",
       "      <td>False</td>\n",
       "      <td>False</td>\n",
       "      <td>False</td>\n",
       "      <td>False</td>\n",
       "      <td>False</td>\n",
       "      <td>False</td>\n",
       "    </tr>\n",
       "  </tbody>\n",
       "</table>\n",
       "<p>631 rows × 7 columns</p>\n",
       "</div>"
      ],
      "text/plain": [
       "      Date   Open   High    Low  Close  Adj Close  Volume\n",
       "0    False  False  False  False  False      False   False\n",
       "1    False  False  False  False  False      False   False\n",
       "2    False  False  False  False  False      False   False\n",
       "3    False  False  False  False  False      False   False\n",
       "4    False  False  False  False  False      False   False\n",
       "..     ...    ...    ...    ...    ...        ...     ...\n",
       "626  False  False  False  False  False      False   False\n",
       "627  False  False  False  False  False      False   False\n",
       "628  False  False  False  False  False      False   False\n",
       "629  False  False  False  False  False      False   False\n",
       "630  False  False  False  False  False      False   False\n",
       "\n",
       "[631 rows x 7 columns]"
      ]
     },
     "execution_count": 12,
     "metadata": {},
     "output_type": "execute_result"
    }
   ],
   "source": [
    "df1.isnull()"
   ]
  },
  {
   "cell_type": "code",
   "execution_count": 13,
   "id": "kwssWCSoH7t9",
   "metadata": {
    "ExecuteTime": {
     "end_time": "2024-03-12T17:08:53.685321Z",
     "start_time": "2024-03-12T17:08:53.673518Z"
    },
    "colab": {
     "base_uri": "https://localhost:8080/"
    },
    "id": "kwssWCSoH7t9",
    "outputId": "3c45b158-7e34-49b5-b760-021503903737"
   },
   "outputs": [
    {
     "data": {
      "text/plain": [
       "0"
      ]
     },
     "execution_count": 13,
     "metadata": {},
     "output_type": "execute_result"
    }
   ],
   "source": [
    "df1.isnull().sum().sum()"
   ]
  },
  {
   "cell_type": "code",
   "execution_count": 14,
   "id": "pnwtnDKaJGGj",
   "metadata": {
    "ExecuteTime": {
     "end_time": "2024-03-12T17:08:54.780051Z",
     "start_time": "2024-03-12T17:08:54.753963Z"
    },
    "colab": {
     "base_uri": "https://localhost:8080/",
     "height": 423
    },
    "id": "pnwtnDKaJGGj",
    "outputId": "a34b51ac-8807-4f07-8725-1cc21aec3b2f"
   },
   "outputs": [
    {
     "data": {
      "text/html": [
       "<div>\n",
       "<style scoped>\n",
       "    .dataframe tbody tr th:only-of-type {\n",
       "        vertical-align: middle;\n",
       "    }\n",
       "\n",
       "    .dataframe tbody tr th {\n",
       "        vertical-align: top;\n",
       "    }\n",
       "\n",
       "    .dataframe thead th {\n",
       "        text-align: right;\n",
       "    }\n",
       "</style>\n",
       "<table border=\"1\" class=\"dataframe\">\n",
       "  <thead>\n",
       "    <tr style=\"text-align: right;\">\n",
       "      <th></th>\n",
       "      <th>Date</th>\n",
       "      <th>Open</th>\n",
       "      <th>High</th>\n",
       "      <th>Low</th>\n",
       "      <th>Close</th>\n",
       "      <th>Adj Close</th>\n",
       "      <th>Volume</th>\n",
       "    </tr>\n",
       "  </thead>\n",
       "  <tbody>\n",
       "    <tr>\n",
       "      <th>0</th>\n",
       "      <td>True</td>\n",
       "      <td>True</td>\n",
       "      <td>True</td>\n",
       "      <td>True</td>\n",
       "      <td>True</td>\n",
       "      <td>True</td>\n",
       "      <td>True</td>\n",
       "    </tr>\n",
       "    <tr>\n",
       "      <th>1</th>\n",
       "      <td>True</td>\n",
       "      <td>True</td>\n",
       "      <td>True</td>\n",
       "      <td>True</td>\n",
       "      <td>True</td>\n",
       "      <td>True</td>\n",
       "      <td>True</td>\n",
       "    </tr>\n",
       "    <tr>\n",
       "      <th>2</th>\n",
       "      <td>True</td>\n",
       "      <td>True</td>\n",
       "      <td>True</td>\n",
       "      <td>True</td>\n",
       "      <td>True</td>\n",
       "      <td>True</td>\n",
       "      <td>True</td>\n",
       "    </tr>\n",
       "    <tr>\n",
       "      <th>3</th>\n",
       "      <td>True</td>\n",
       "      <td>True</td>\n",
       "      <td>True</td>\n",
       "      <td>True</td>\n",
       "      <td>True</td>\n",
       "      <td>True</td>\n",
       "      <td>True</td>\n",
       "    </tr>\n",
       "    <tr>\n",
       "      <th>4</th>\n",
       "      <td>True</td>\n",
       "      <td>True</td>\n",
       "      <td>True</td>\n",
       "      <td>True</td>\n",
       "      <td>True</td>\n",
       "      <td>True</td>\n",
       "      <td>True</td>\n",
       "    </tr>\n",
       "    <tr>\n",
       "      <th>...</th>\n",
       "      <td>...</td>\n",
       "      <td>...</td>\n",
       "      <td>...</td>\n",
       "      <td>...</td>\n",
       "      <td>...</td>\n",
       "      <td>...</td>\n",
       "      <td>...</td>\n",
       "    </tr>\n",
       "    <tr>\n",
       "      <th>626</th>\n",
       "      <td>True</td>\n",
       "      <td>True</td>\n",
       "      <td>True</td>\n",
       "      <td>True</td>\n",
       "      <td>True</td>\n",
       "      <td>True</td>\n",
       "      <td>True</td>\n",
       "    </tr>\n",
       "    <tr>\n",
       "      <th>627</th>\n",
       "      <td>True</td>\n",
       "      <td>True</td>\n",
       "      <td>True</td>\n",
       "      <td>True</td>\n",
       "      <td>True</td>\n",
       "      <td>True</td>\n",
       "      <td>True</td>\n",
       "    </tr>\n",
       "    <tr>\n",
       "      <th>628</th>\n",
       "      <td>True</td>\n",
       "      <td>True</td>\n",
       "      <td>True</td>\n",
       "      <td>True</td>\n",
       "      <td>True</td>\n",
       "      <td>True</td>\n",
       "      <td>True</td>\n",
       "    </tr>\n",
       "    <tr>\n",
       "      <th>629</th>\n",
       "      <td>True</td>\n",
       "      <td>True</td>\n",
       "      <td>True</td>\n",
       "      <td>True</td>\n",
       "      <td>True</td>\n",
       "      <td>True</td>\n",
       "      <td>True</td>\n",
       "    </tr>\n",
       "    <tr>\n",
       "      <th>630</th>\n",
       "      <td>True</td>\n",
       "      <td>True</td>\n",
       "      <td>True</td>\n",
       "      <td>True</td>\n",
       "      <td>True</td>\n",
       "      <td>True</td>\n",
       "      <td>True</td>\n",
       "    </tr>\n",
       "  </tbody>\n",
       "</table>\n",
       "<p>631 rows × 7 columns</p>\n",
       "</div>"
      ],
      "text/plain": [
       "     Date  Open  High   Low  Close  Adj Close  Volume\n",
       "0    True  True  True  True   True       True    True\n",
       "1    True  True  True  True   True       True    True\n",
       "2    True  True  True  True   True       True    True\n",
       "3    True  True  True  True   True       True    True\n",
       "4    True  True  True  True   True       True    True\n",
       "..    ...   ...   ...   ...    ...        ...     ...\n",
       "626  True  True  True  True   True       True    True\n",
       "627  True  True  True  True   True       True    True\n",
       "628  True  True  True  True   True       True    True\n",
       "629  True  True  True  True   True       True    True\n",
       "630  True  True  True  True   True       True    True\n",
       "\n",
       "[631 rows x 7 columns]"
      ]
     },
     "execution_count": 14,
     "metadata": {},
     "output_type": "execute_result"
    }
   ],
   "source": [
    "df1.notnull()"
   ]
  },
  {
   "cell_type": "code",
   "execution_count": 14,
   "id": "cE0NpAGsMK5y",
   "metadata": {
    "ExecuteTime": {
     "end_time": "2024-03-12T17:08:56.490418Z",
     "start_time": "2024-03-12T17:08:56.486363Z"
    },
    "id": "cE0NpAGsMK5y"
   },
   "outputs": [],
   "source": []
  },
  {
   "cell_type": "code",
   "execution_count": 15,
   "id": "SriFGccqKVFW",
   "metadata": {
    "ExecuteTime": {
     "end_time": "2024-03-12T17:08:57.882834Z",
     "start_time": "2024-03-12T17:08:57.870535Z"
    },
    "colab": {
     "base_uri": "https://localhost:8080/"
    },
    "id": "SriFGccqKVFW",
    "outputId": "70539dec-1b97-49b8-c93f-a3b0f5209d46"
   },
   "outputs": [
    {
     "data": {
      "text/plain": [
       "0"
      ]
     },
     "execution_count": 15,
     "metadata": {},
     "output_type": "execute_result"
    }
   ],
   "source": [
    "df1[\"Volume\"].isnull().sum()"
   ]
  },
  {
   "cell_type": "code",
   "execution_count": 16,
   "id": "Qcwm-YaBS6zt",
   "metadata": {
    "ExecuteTime": {
     "end_time": "2024-03-12T17:08:58.737063Z",
     "start_time": "2024-03-12T17:08:58.717938Z"
    },
    "colab": {
     "base_uri": "https://localhost:8080/",
     "height": 293
    },
    "id": "Qcwm-YaBS6zt",
    "outputId": "86f96b2b-fe94-4381-b513-b68d00294c40"
   },
   "outputs": [
    {
     "data": {
      "text/html": [
       "<div>\n",
       "<style scoped>\n",
       "    .dataframe tbody tr th:only-of-type {\n",
       "        vertical-align: middle;\n",
       "    }\n",
       "\n",
       "    .dataframe tbody tr th {\n",
       "        vertical-align: top;\n",
       "    }\n",
       "\n",
       "    .dataframe thead th {\n",
       "        text-align: right;\n",
       "    }\n",
       "</style>\n",
       "<table border=\"1\" class=\"dataframe\">\n",
       "  <thead>\n",
       "    <tr style=\"text-align: right;\">\n",
       "      <th></th>\n",
       "      <th>Date</th>\n",
       "      <th>Open</th>\n",
       "      <th>High</th>\n",
       "      <th>Low</th>\n",
       "      <th>Close</th>\n",
       "      <th>Adj Close</th>\n",
       "      <th>Volume</th>\n",
       "    </tr>\n",
       "  </thead>\n",
       "  <tbody>\n",
       "    <tr>\n",
       "      <th>0</th>\n",
       "      <td>2021-07-23</td>\n",
       "      <td>116.000000</td>\n",
       "      <td>138.899994</td>\n",
       "      <td>115.000000</td>\n",
       "      <td>126.000000</td>\n",
       "      <td>126.000000</td>\n",
       "      <td>694895290</td>\n",
       "    </tr>\n",
       "    <tr>\n",
       "      <th>1</th>\n",
       "      <td>2021-07-26</td>\n",
       "      <td>126.349998</td>\n",
       "      <td>143.750000</td>\n",
       "      <td>125.300003</td>\n",
       "      <td>140.649994</td>\n",
       "      <td>140.649994</td>\n",
       "      <td>249723854</td>\n",
       "    </tr>\n",
       "    <tr>\n",
       "      <th>2</th>\n",
       "      <td>2021-07-27</td>\n",
       "      <td>141.699997</td>\n",
       "      <td>147.800003</td>\n",
       "      <td>127.750000</td>\n",
       "      <td>132.899994</td>\n",
       "      <td>132.899994</td>\n",
       "      <td>240341900</td>\n",
       "    </tr>\n",
       "    <tr>\n",
       "      <th>3</th>\n",
       "      <td>2021-07-28</td>\n",
       "      <td>131.000000</td>\n",
       "      <td>135.000000</td>\n",
       "      <td>123.550003</td>\n",
       "      <td>131.199997</td>\n",
       "      <td>131.199997</td>\n",
       "      <td>159793731</td>\n",
       "    </tr>\n",
       "    <tr>\n",
       "      <th>4</th>\n",
       "      <td>2021-07-29</td>\n",
       "      <td>134.949997</td>\n",
       "      <td>144.000000</td>\n",
       "      <td>132.199997</td>\n",
       "      <td>141.550003</td>\n",
       "      <td>141.550003</td>\n",
       "      <td>117973089</td>\n",
       "    </tr>\n",
       "  </tbody>\n",
       "</table>\n",
       "</div>"
      ],
      "text/plain": [
       "         Date        Open        High         Low       Close   Adj Close  \\\n",
       "0  2021-07-23  116.000000  138.899994  115.000000  126.000000  126.000000   \n",
       "1  2021-07-26  126.349998  143.750000  125.300003  140.649994  140.649994   \n",
       "2  2021-07-27  141.699997  147.800003  127.750000  132.899994  132.899994   \n",
       "3  2021-07-28  131.000000  135.000000  123.550003  131.199997  131.199997   \n",
       "4  2021-07-29  134.949997  144.000000  132.199997  141.550003  141.550003   \n",
       "\n",
       "      Volume  \n",
       "0  694895290  \n",
       "1  249723854  \n",
       "2  240341900  \n",
       "3  159793731  \n",
       "4  117973089  "
      ]
     },
     "execution_count": 16,
     "metadata": {},
     "output_type": "execute_result"
    }
   ],
   "source": [
    "df1.head()"
   ]
  },
  {
   "cell_type": "code",
   "execution_count": 17,
   "id": "XYsFNJ24S-dj",
   "metadata": {
    "ExecuteTime": {
     "end_time": "2024-03-12T17:09:06.936277Z",
     "start_time": "2024-03-12T17:09:06.926925Z"
    },
    "colab": {
     "base_uri": "https://localhost:8080/"
    },
    "id": "XYsFNJ24S-dj",
    "outputId": "7e401a06-a53f-49e3-8730-23ed0269f0c4"
   },
   "outputs": [
    {
     "data": {
      "text/plain": [
       "2"
      ]
     },
     "execution_count": 17,
     "metadata": {},
     "output_type": "execute_result"
    }
   ],
   "source": [
    "len([\"Renamd 1\", \"Renamed 2\"])"
   ]
  },
  {
   "cell_type": "code",
   "execution_count": 18,
   "id": "FPVs4vjuTEDb",
   "metadata": {
    "ExecuteTime": {
     "end_time": "2024-03-12T17:09:08.034321Z",
     "start_time": "2024-03-12T17:09:08.024537Z"
    },
    "colab": {
     "base_uri": "https://localhost:8080/"
    },
    "id": "FPVs4vjuTEDb",
    "outputId": "2b512d03-2c1a-4150-ef7e-57d40a522fdf"
   },
   "outputs": [
    {
     "data": {
      "text/plain": [
       "7"
      ]
     },
     "execution_count": 18,
     "metadata": {},
     "output_type": "execute_result"
    }
   ],
   "source": [
    "len(df1.columns)"
   ]
  },
  {
   "cell_type": "code",
   "execution_count": 19,
   "id": "cMN_ebwvTGRC",
   "metadata": {
    "ExecuteTime": {
     "end_time": "2024-03-12T17:09:08.986859Z",
     "start_time": "2024-03-12T17:09:08.980138Z"
    },
    "id": "cMN_ebwvTGRC"
   },
   "outputs": [],
   "source": [
    "df1.columns = [\"Date\", \"Open\", \"High\", \"Low\", \"Close\", \"Adj Close\", \"Volume\"]"
   ]
  },
  {
   "cell_type": "code",
   "execution_count": 19,
   "id": "ewLsp7mBTKRU",
   "metadata": {
    "ExecuteTime": {
     "end_time": "2024-03-12T17:09:09.721147Z",
     "start_time": "2024-03-12T17:09:09.717090Z"
    },
    "id": "ewLsp7mBTKRU"
   },
   "outputs": [],
   "source": []
  },
  {
   "cell_type": "code",
   "execution_count": 20,
   "id": "fDRFGivjLpNQ",
   "metadata": {
    "ExecuteTime": {
     "end_time": "2024-03-12T17:09:10.433704Z",
     "start_time": "2024-03-12T17:09:10.427153Z"
    },
    "id": "fDRFGivjLpNQ"
   },
   "outputs": [],
   "source": [
    "df1.columns = [\"Renamed 1\", \"Renamed 2\",\"Renamed 3\", \"Renamed 4\",\"Renamed 5\",\"Renamed 6\", \"Renamed 7\"]"
   ]
  },
  {
   "cell_type": "code",
   "execution_count": 21,
   "id": "hfwtX2oHPnRr",
   "metadata": {
    "ExecuteTime": {
     "end_time": "2024-03-12T17:09:12.259523Z",
     "start_time": "2024-03-12T17:09:11.983115Z"
    },
    "colab": {
     "base_uri": "https://localhost:8080/",
     "height": 280
    },
    "id": "hfwtX2oHPnRr",
    "outputId": "37c91b96-799c-45c6-ab14-7e0754cfed83"
   },
   "outputs": [
    {
     "ename": "AttributeError",
     "evalue": "'DataFrame' object has no attribute 'categorical_values_column'",
     "output_type": "error",
     "traceback": [
      "\u001b[1;31m---------------------------------------------------------------------------\u001b[0m",
      "\u001b[1;31mAttributeError\u001b[0m                            Traceback (most recent call last)",
      "\u001b[1;32m~\\AppData\\Local\\Temp\\ipykernel_10532\\2436976148.py\u001b[0m in \u001b[0;36m?\u001b[1;34m()\u001b[0m\n\u001b[1;32m----> 1\u001b[1;33m \u001b[0mdf1\u001b[0m\u001b[1;33m.\u001b[0m\u001b[0mcategorical_values_column\u001b[0m\u001b[1;33m.\u001b[0m\u001b[0mvalue_counts\u001b[0m\u001b[1;33m(\u001b[0m\u001b[1;33m)\u001b[0m\u001b[1;33m\u001b[0m\u001b[1;33m\u001b[0m\u001b[0m\n\u001b[0m",
      "\u001b[1;32mD:\\college\\venv\\Lib\\site-packages\\pandas\\core\\generic.py\u001b[0m in \u001b[0;36m?\u001b[1;34m(self, name)\u001b[0m\n\u001b[0;32m   6292\u001b[0m             \u001b[1;32mand\u001b[0m \u001b[0mname\u001b[0m \u001b[1;32mnot\u001b[0m \u001b[1;32min\u001b[0m \u001b[0mself\u001b[0m\u001b[1;33m.\u001b[0m\u001b[0m_accessors\u001b[0m\u001b[1;33m\u001b[0m\u001b[1;33m\u001b[0m\u001b[0m\n\u001b[0;32m   6293\u001b[0m             \u001b[1;32mand\u001b[0m \u001b[0mself\u001b[0m\u001b[1;33m.\u001b[0m\u001b[0m_info_axis\u001b[0m\u001b[1;33m.\u001b[0m\u001b[0m_can_hold_identifiers_and_holds_name\u001b[0m\u001b[1;33m(\u001b[0m\u001b[0mname\u001b[0m\u001b[1;33m)\u001b[0m\u001b[1;33m\u001b[0m\u001b[1;33m\u001b[0m\u001b[0m\n\u001b[0;32m   6294\u001b[0m         \u001b[1;33m)\u001b[0m\u001b[1;33m:\u001b[0m\u001b[1;33m\u001b[0m\u001b[1;33m\u001b[0m\u001b[0m\n\u001b[0;32m   6295\u001b[0m             \u001b[1;32mreturn\u001b[0m \u001b[0mself\u001b[0m\u001b[1;33m[\u001b[0m\u001b[0mname\u001b[0m\u001b[1;33m]\u001b[0m\u001b[1;33m\u001b[0m\u001b[1;33m\u001b[0m\u001b[0m\n\u001b[1;32m-> 6296\u001b[1;33m         \u001b[1;32mreturn\u001b[0m \u001b[0mobject\u001b[0m\u001b[1;33m.\u001b[0m\u001b[0m__getattribute__\u001b[0m\u001b[1;33m(\u001b[0m\u001b[0mself\u001b[0m\u001b[1;33m,\u001b[0m \u001b[0mname\u001b[0m\u001b[1;33m)\u001b[0m\u001b[1;33m\u001b[0m\u001b[1;33m\u001b[0m\u001b[0m\n\u001b[0m",
      "\u001b[1;31mAttributeError\u001b[0m: 'DataFrame' object has no attribute 'categorical_values_column'"
     ]
    }
   ],
   "source": [
    "\n",
    "df1.categorical_values_column.value_counts()"
   ]
  },
  {
   "cell_type": "code",
   "execution_count": 22,
   "id": "juruNG3_V3Bo",
   "metadata": {
    "ExecuteTime": {
     "end_time": "2024-03-12T17:09:12.998749Z",
     "start_time": "2024-03-12T17:09:12.986889Z"
    },
    "id": "juruNG3_V3Bo"
   },
   "outputs": [
    {
     "data": {
      "text/plain": [
       "Renamed 1\n",
       "2021-07-23    1\n",
       "2023-04-10    1\n",
       "2023-03-27    1\n",
       "2023-03-28    1\n",
       "2023-03-29    1\n",
       "             ..\n",
       "2022-05-31    1\n",
       "2022-06-01    1\n",
       "2022-06-02    1\n",
       "2022-06-03    1\n",
       "2024-02-07    1\n",
       "Name: count, Length: 631, dtype: int64"
      ]
     },
     "execution_count": 22,
     "metadata": {},
     "output_type": "execute_result"
    }
   ],
   "source": [
    "df1['Renamed 1'].value_counts()"
   ]
  },
  {
   "cell_type": "markdown",
   "id": "cc489342e449e57f",
   "metadata": {
    "collapsed": false
   },
   "source": [
    "# Day 3"
   ]
  },
  {
   "cell_type": "code",
   "execution_count": 23,
   "id": "608e3541effb1c6e",
   "metadata": {
    "ExecuteTime": {
     "end_time": "2024-03-12T17:09:14.631956Z",
     "start_time": "2024-03-12T17:09:14.626409Z"
    },
    "collapsed": false
   },
   "outputs": [],
   "source": [
    "import numpy as np"
   ]
  },
  {
   "cell_type": "code",
   "execution_count": 24,
   "id": "42fbab5a427ddf71",
   "metadata": {
    "ExecuteTime": {
     "end_time": "2024-03-12T17:09:16.299221Z",
     "start_time": "2024-03-12T17:09:16.291546Z"
    },
    "collapsed": false
   },
   "outputs": [],
   "source": [
    "#Volume = np.power(df1['Volume'])"
   ]
  },
  {
   "cell_type": "code",
   "execution_count": 25,
   "id": "dff5a4928b59d80",
   "metadata": {
    "ExecuteTime": {
     "end_time": "2024-03-12T17:09:17.308484Z",
     "start_time": "2024-03-12T17:09:17.298885Z"
    },
    "collapsed": false
   },
   "outputs": [
    {
     "ename": "SyntaxError",
     "evalue": "invalid syntax (3661577852.py, line 1)",
     "output_type": "error",
     "traceback": [
      "\u001b[1;36m  Cell \u001b[1;32mIn[25], line 1\u001b[1;36m\u001b[0m\n\u001b[1;33m    df1 = pd.concat(df1.'Volum',axis=1)\u001b[0m\n\u001b[1;37m                        ^\u001b[0m\n\u001b[1;31mSyntaxError\u001b[0m\u001b[1;31m:\u001b[0m invalid syntax\n"
     ]
    }
   ],
   "source": [
    "df1 = pd.concat(df1.'Volum',axis=1)"
   ]
  },
  {
   "cell_type": "code",
   "execution_count": 26,
   "id": "cb3d153c262385e9",
   "metadata": {
    "ExecuteTime": {
     "end_time": "2024-03-12T17:09:18.235354Z",
     "start_time": "2024-03-12T17:09:18.223653Z"
    },
    "collapsed": false
   },
   "outputs": [
    {
     "name": "stdout",
     "output_type": "stream",
     "text": [
      "<bound method Series.skew of 0      2021-07-23\n",
      "1      2021-07-26\n",
      "2      2021-07-27\n",
      "3      2021-07-28\n",
      "4      2021-07-29\n",
      "          ...    \n",
      "626    2024-02-01\n",
      "627    2024-02-02\n",
      "628    2024-02-05\n",
      "629    2024-02-06\n",
      "630    2024-02-07\n",
      "Name: Renamed 1, Length: 631, dtype: object>\n"
     ]
    }
   ],
   "source": [
    "print(df1['Renamed 1'].skew)"
   ]
  },
  {
   "cell_type": "code",
   "execution_count": 27,
   "id": "c966d62317912fd2",
   "metadata": {
    "ExecuteTime": {
     "end_time": "2024-03-12T17:09:19.576033Z",
     "start_time": "2024-03-12T17:09:19.547065Z"
    },
    "collapsed": false
   },
   "outputs": [
    {
     "ename": "TypeError",
     "evalue": "mean() missing 1 required positional argument: 'a'",
     "output_type": "error",
     "traceback": [
      "\u001b[1;31m---------------------------------------------------------------------------\u001b[0m",
      "\u001b[1;31mTypeError\u001b[0m                                 Traceback (most recent call last)",
      "Cell \u001b[1;32mIn[27], line 1\u001b[0m\n\u001b[1;32m----> 1\u001b[0m \u001b[38;5;28mprint\u001b[39m(\u001b[43mnp\u001b[49m\u001b[38;5;241;43m.\u001b[39;49m\u001b[43mmean\u001b[49m\u001b[43m(\u001b[49m\u001b[43m)\u001b[49m)\n",
      "\u001b[1;31mTypeError\u001b[0m: mean() missing 1 required positional argument: 'a'"
     ]
    }
   ],
   "source": [
    "print(np.mean())"
   ]
  },
  {
   "cell_type": "code",
   "execution_count": 28,
   "id": "9b72bd1dbc8c0934",
   "metadata": {
    "ExecuteTime": {
     "end_time": "2024-03-12T17:09:20.479215Z",
     "start_time": "2024-03-12T17:09:20.473502Z"
    },
    "collapsed": false
   },
   "outputs": [],
   "source": [
    "# outlier code"
   ]
  },
  {
   "cell_type": "code",
   "execution_count": 29,
   "id": "d3a50c412fa64945",
   "metadata": {
    "ExecuteTime": {
     "end_time": "2024-03-12T17:09:21.635498Z",
     "start_time": "2024-03-12T17:09:21.280178Z"
    },
    "collapsed": false
   },
   "outputs": [
    {
     "ename": "TypeError",
     "evalue": "unsupported operand type(s) for /: 'builtin_function_or_method' and 'int'",
     "output_type": "error",
     "traceback": [
      "\u001b[1;31m---------------------------------------------------------------------------\u001b[0m",
      "\u001b[1;31mTypeError\u001b[0m                                 Traceback (most recent call last)",
      "Cell \u001b[1;32mIn[29], line 1\u001b[0m\n\u001b[1;32m----> 1\u001b[0m q1q3 \u001b[38;5;241m=\u001b[39m \u001b[43mnp\u001b[49m\u001b[38;5;241;43m.\u001b[39;49m\u001b[43mpercentile\u001b[49m\u001b[43m(\u001b[49m\u001b[43mdf1\u001b[49m\u001b[43m[\u001b[49m\u001b[38;5;124;43m'\u001b[39;49m\u001b[38;5;124;43mRenamed 7\u001b[39;49m\u001b[38;5;124;43m'\u001b[39;49m\u001b[43m]\u001b[49m\u001b[43m,\u001b[49m\u001b[43m[\u001b[49m\u001b[38;5;28;43mmax\u001b[39;49m\u001b[43m,\u001b[49m\u001b[38;5;28;43mmin\u001b[39;49m\u001b[43m]\u001b[49m\u001b[43m)\u001b[49m\n",
      "File \u001b[1;32mD:\\college\\venv\\Lib\\site-packages\\numpy\\lib\\function_base.py:4279\u001b[0m, in \u001b[0;36mpercentile\u001b[1;34m(a, q, axis, out, overwrite_input, method, keepdims, interpolation)\u001b[0m\n\u001b[0;32m   4276\u001b[0m \u001b[38;5;28;01mif\u001b[39;00m a\u001b[38;5;241m.\u001b[39mdtype\u001b[38;5;241m.\u001b[39mkind \u001b[38;5;241m==\u001b[39m \u001b[38;5;124m\"\u001b[39m\u001b[38;5;124mc\u001b[39m\u001b[38;5;124m\"\u001b[39m:\n\u001b[0;32m   4277\u001b[0m     \u001b[38;5;28;01mraise\u001b[39;00m \u001b[38;5;167;01mTypeError\u001b[39;00m(\u001b[38;5;124m\"\u001b[39m\u001b[38;5;124ma must be an array of real numbers\u001b[39m\u001b[38;5;124m\"\u001b[39m)\n\u001b[1;32m-> 4279\u001b[0m q \u001b[38;5;241m=\u001b[39m \u001b[43mnp\u001b[49m\u001b[38;5;241;43m.\u001b[39;49m\u001b[43mtrue_divide\u001b[49m\u001b[43m(\u001b[49m\u001b[43mq\u001b[49m\u001b[43m,\u001b[49m\u001b[43m \u001b[49m\u001b[38;5;241;43m100\u001b[39;49m\u001b[43m)\u001b[49m\n\u001b[0;32m   4280\u001b[0m q \u001b[38;5;241m=\u001b[39m asanyarray(q)  \u001b[38;5;66;03m# undo any decay that the ufunc performed (see gh-13105)\u001b[39;00m\n\u001b[0;32m   4281\u001b[0m \u001b[38;5;28;01mif\u001b[39;00m \u001b[38;5;129;01mnot\u001b[39;00m _quantile_is_valid(q):\n",
      "\u001b[1;31mTypeError\u001b[0m: unsupported operand type(s) for /: 'builtin_function_or_method' and 'int'"
     ]
    }
   ],
   "source": [
    "q1q3 = np.percentile(df1['Renamed 7'],[max,min])"
   ]
  },
  {
   "cell_type": "markdown",
   "id": "450837aae24c9cd0",
   "metadata": {
    "collapsed": false
   },
   "source": [
    "Outlier code"
   ]
  },
  {
   "cell_type": "code",
   "execution_count": 30,
   "id": "3c93a5e844d8415f",
   "metadata": {
    "ExecuteTime": {
     "end_time": "2024-03-12T17:09:24.598188Z",
     "start_time": "2024-03-12T17:09:23.286313Z"
    },
    "collapsed": false
   },
   "outputs": [
    {
     "ename": "KeyError",
     "evalue": "'Volume'",
     "output_type": "error",
     "traceback": [
      "\u001b[1;31m---------------------------------------------------------------------------\u001b[0m",
      "\u001b[1;31mKeyError\u001b[0m                                  Traceback (most recent call last)",
      "File \u001b[1;32mD:\\college\\venv\\Lib\\site-packages\\pandas\\core\\indexes\\base.py:3805\u001b[0m, in \u001b[0;36mIndex.get_loc\u001b[1;34m(self, key)\u001b[0m\n\u001b[0;32m   3804\u001b[0m \u001b[38;5;28;01mtry\u001b[39;00m:\n\u001b[1;32m-> 3805\u001b[0m     \u001b[38;5;28;01mreturn\u001b[39;00m \u001b[38;5;28;43mself\u001b[39;49m\u001b[38;5;241;43m.\u001b[39;49m\u001b[43m_engine\u001b[49m\u001b[38;5;241;43m.\u001b[39;49m\u001b[43mget_loc\u001b[49m\u001b[43m(\u001b[49m\u001b[43mcasted_key\u001b[49m\u001b[43m)\u001b[49m\n\u001b[0;32m   3806\u001b[0m \u001b[38;5;28;01mexcept\u001b[39;00m \u001b[38;5;167;01mKeyError\u001b[39;00m \u001b[38;5;28;01mas\u001b[39;00m err:\n",
      "File \u001b[1;32mindex.pyx:167\u001b[0m, in \u001b[0;36mpandas._libs.index.IndexEngine.get_loc\u001b[1;34m()\u001b[0m\n",
      "File \u001b[1;32mindex.pyx:196\u001b[0m, in \u001b[0;36mpandas._libs.index.IndexEngine.get_loc\u001b[1;34m()\u001b[0m\n",
      "File \u001b[1;32mpandas\\\\_libs\\\\hashtable_class_helper.pxi:7081\u001b[0m, in \u001b[0;36mpandas._libs.hashtable.PyObjectHashTable.get_item\u001b[1;34m()\u001b[0m\n",
      "File \u001b[1;32mpandas\\\\_libs\\\\hashtable_class_helper.pxi:7089\u001b[0m, in \u001b[0;36mpandas._libs.hashtable.PyObjectHashTable.get_item\u001b[1;34m()\u001b[0m\n",
      "\u001b[1;31mKeyError\u001b[0m: 'Volume'",
      "\nThe above exception was the direct cause of the following exception:\n",
      "\u001b[1;31mKeyError\u001b[0m                                  Traceback (most recent call last)",
      "Cell \u001b[1;32mIn[30], line 1\u001b[0m\n\u001b[1;32m----> 1\u001b[0m q1q3 \u001b[38;5;241m=\u001b[39m np\u001b[38;5;241m.\u001b[39mpercentile(\u001b[43mdf1\u001b[49m\u001b[43m[\u001b[49m\u001b[38;5;124;43m'\u001b[39;49m\u001b[38;5;124;43mVolume\u001b[39;49m\u001b[38;5;124;43m'\u001b[39;49m\u001b[43m]\u001b[49m,[\u001b[38;5;28mmax\u001b[39m,\u001b[38;5;28mmin\u001b[39m])\n",
      "File \u001b[1;32mD:\\college\\venv\\Lib\\site-packages\\pandas\\core\\frame.py:4090\u001b[0m, in \u001b[0;36mDataFrame.__getitem__\u001b[1;34m(self, key)\u001b[0m\n\u001b[0;32m   4088\u001b[0m \u001b[38;5;28;01mif\u001b[39;00m \u001b[38;5;28mself\u001b[39m\u001b[38;5;241m.\u001b[39mcolumns\u001b[38;5;241m.\u001b[39mnlevels \u001b[38;5;241m>\u001b[39m \u001b[38;5;241m1\u001b[39m:\n\u001b[0;32m   4089\u001b[0m     \u001b[38;5;28;01mreturn\u001b[39;00m \u001b[38;5;28mself\u001b[39m\u001b[38;5;241m.\u001b[39m_getitem_multilevel(key)\n\u001b[1;32m-> 4090\u001b[0m indexer \u001b[38;5;241m=\u001b[39m \u001b[38;5;28;43mself\u001b[39;49m\u001b[38;5;241;43m.\u001b[39;49m\u001b[43mcolumns\u001b[49m\u001b[38;5;241;43m.\u001b[39;49m\u001b[43mget_loc\u001b[49m\u001b[43m(\u001b[49m\u001b[43mkey\u001b[49m\u001b[43m)\u001b[49m\n\u001b[0;32m   4091\u001b[0m \u001b[38;5;28;01mif\u001b[39;00m is_integer(indexer):\n\u001b[0;32m   4092\u001b[0m     indexer \u001b[38;5;241m=\u001b[39m [indexer]\n",
      "File \u001b[1;32mD:\\college\\venv\\Lib\\site-packages\\pandas\\core\\indexes\\base.py:3812\u001b[0m, in \u001b[0;36mIndex.get_loc\u001b[1;34m(self, key)\u001b[0m\n\u001b[0;32m   3807\u001b[0m     \u001b[38;5;28;01mif\u001b[39;00m \u001b[38;5;28misinstance\u001b[39m(casted_key, \u001b[38;5;28mslice\u001b[39m) \u001b[38;5;129;01mor\u001b[39;00m (\n\u001b[0;32m   3808\u001b[0m         \u001b[38;5;28misinstance\u001b[39m(casted_key, abc\u001b[38;5;241m.\u001b[39mIterable)\n\u001b[0;32m   3809\u001b[0m         \u001b[38;5;129;01mand\u001b[39;00m \u001b[38;5;28many\u001b[39m(\u001b[38;5;28misinstance\u001b[39m(x, \u001b[38;5;28mslice\u001b[39m) \u001b[38;5;28;01mfor\u001b[39;00m x \u001b[38;5;129;01min\u001b[39;00m casted_key)\n\u001b[0;32m   3810\u001b[0m     ):\n\u001b[0;32m   3811\u001b[0m         \u001b[38;5;28;01mraise\u001b[39;00m InvalidIndexError(key)\n\u001b[1;32m-> 3812\u001b[0m     \u001b[38;5;28;01mraise\u001b[39;00m \u001b[38;5;167;01mKeyError\u001b[39;00m(key) \u001b[38;5;28;01mfrom\u001b[39;00m \u001b[38;5;21;01merr\u001b[39;00m\n\u001b[0;32m   3813\u001b[0m \u001b[38;5;28;01mexcept\u001b[39;00m \u001b[38;5;167;01mTypeError\u001b[39;00m:\n\u001b[0;32m   3814\u001b[0m     \u001b[38;5;66;03m# If we have a listlike key, _check_indexing_error will raise\u001b[39;00m\n\u001b[0;32m   3815\u001b[0m     \u001b[38;5;66;03m#  InvalidIndexError. Otherwise we fall through and re-raise\u001b[39;00m\n\u001b[0;32m   3816\u001b[0m     \u001b[38;5;66;03m#  the TypeError.\u001b[39;00m\n\u001b[0;32m   3817\u001b[0m     \u001b[38;5;28mself\u001b[39m\u001b[38;5;241m.\u001b[39m_check_indexing_error(key)\n",
      "\u001b[1;31mKeyError\u001b[0m: 'Volume'"
     ]
    }
   ],
   "source": [
    "q1q3 = np.percentile(df1['Volume'],[max,min])\n"
   ]
  },
  {
   "cell_type": "markdown",
   "id": "2959ea4c0055c8b9",
   "metadata": {
    "collapsed": false
   },
   "source": [
    "# After lunce"
   ]
  },
  {
   "cell_type": "code",
   "execution_count": 31,
   "id": "db5aa790f6f8e597",
   "metadata": {
    "ExecuteTime": {
     "end_time": "2024-03-12T17:09:26.319069Z",
     "start_time": "2024-03-12T17:09:26.312682Z"
    },
    "collapsed": false
   },
   "outputs": [],
   "source": [
    "import numpy as np\n",
    "import matplotlib.pyplot as plt"
   ]
  },
  {
   "cell_type": "code",
   "execution_count": 32,
   "id": "697b32eedcd63006",
   "metadata": {
    "ExecuteTime": {
     "end_time": "2024-03-12T17:09:27.616650Z",
     "start_time": "2024-03-12T17:09:27.365371Z"
    },
    "collapsed": false
   },
   "outputs": [
    {
     "data": {
      "text/plain": [
       "Text(0, 0.5, 'student enrolled')"
      ]
     },
     "execution_count": 32,
     "metadata": {},
     "output_type": "execute_result"
    },
    {
     "data": {
      "image/png": "[encoded data removed]",
      "text/plain": [
       "<Figure size 1000x500 with 1 Axes>"
      ]
     },
     "metadata": {},
     "output_type": "display_data"
    }
   ],
   "source": [
    "data = {'BCA': 45, 'B.Sc': 15, 'BBA': 28, 'BMLT': 18}\n",
    "\n",
    "course = list(data.keys())\n",
    "values = list(data.values())\n",
    "fig = plt.figure(figsize=(10,5))\n",
    "plt.bar(course,values,color='blue',width = 0.4)\n",
    "plt.xlabel('course offered')\n",
    "plt.ylabel('student enrolled')"
   ]
  },
  {
   "cell_type": "code",
   "execution_count": 33,
   "id": "e0478866fb102e4c",
   "metadata": {
    "ExecuteTime": {
     "end_time": "2024-03-12T17:09:28.503543Z",
     "start_time": "2024-03-12T17:09:28.373518Z"
    },
    "collapsed": false
   },
   "outputs": [
    {
     "data": {
      "image/png": "[encoded data removed]",
      "text/plain": [
       "<Figure size 640x480 with 1 Axes>"
      ]
     },
     "metadata": {},
     "output_type": "display_data"
    }
   ],
   "source": [
    "import numpy as np\n",
    "\n",
    "import matplotlib.pyplot as plt\n",
    "\n",
    "y = np.array([35,25,25,15,30,20,10,70])\n",
    "\n",
    "plt.pie(y)\n",
    "plt.show()"
   ]
  },
  {
   "cell_type": "markdown",
   "id": "1a88fb5ea91576c8",
   "metadata": {
    "collapsed": false
   },
   "source": [
    "Mean Median Mode"
   ]
  },
  {
   "cell_type": "markdown",
   "id": "da68efed7deb325c",
   "metadata": {
    "collapsed": false
   },
   "source": []
  },
  {
   "cell_type": "code",
   "execution_count": 35,
   "id": "206859d584df53d5",
   "metadata": {
    "ExecuteTime": {
     "end_time": "2024-03-12T17:16:04.776141Z",
     "start_time": "2024-03-12T17:16:03.746548Z"
    },
    "collapsed": false
   },
   "outputs": [
    {
     "name": "stdout",
     "output_type": "stream",
     "text": [
      "3.3333333333333335\n",
      "4.0\n",
      "ModeResult(mode=4, count=3)\n"
     ]
    }
   ],
   "source": [
    "import numpy as np\n",
    "from scipy import stats\n",
    "\n",
    "\n",
    "data = np.array([1, 2, 2, 3, 4, 4, 4, 5, 5])\n",
    "\n",
    "#  mean\n",
    "mean = np.mean(data)\n",
    "\n",
    "# median\n",
    "median = np.median(data)\n",
    "\n",
    "#  mode\n",
    "mode = stats.mode(data)\n",
    "\n",
    "print(mean)\n",
    "print(median)\n",
    "print(mode)\n"
   ]
  },
  {
   "cell_type": "code",
   "execution_count": null,
   "id": "5292ec6fd120e95d",
   "metadata": {
    "collapsed": false
   },
   "outputs": [],
   "source": []
  }
 ],
 "metadata": {
  "colab": {
   "provenance": []
  },
  "kernelspec": {
   "display_name": "Python 3.8.10 64-bit",
   "language": "python",
   "name": "python3"
  },
  "language_info": {
   "codemirror_mode": {
    "name": "ipython",
    "version": 3
   },
   "file_extension": ".py",
   "mimetype": "text/x-python",
   "name": "python",
   "nbconvert_exporter": "python",
   "pygments_lexer": "ipython3",
   "version": "undefined.undefined.undefined"
  },
  "vscode": {
   "interpreter": {
    "hash": "e7370f93d1d0cde622a1f8e1c04877d8463912d04d973331ad4851f04de6915a"
   }
  }
 },
 "nbformat": 4,
 "nbformat_minor": 5
}
